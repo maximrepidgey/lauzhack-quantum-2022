{
 "cells": [
  {
   "cell_type": "markdown",
   "id": "b25b4639-4c6c-4988-9edc-981324b27247",
   "metadata": {},
   "source": [
    "# Win an impossible classical challenge!\n",
    "$$\\newcommand{\\ket}[1]{\\left|{#1}\\right\\rangle}$$\n",
    "Imagine your team is faced with a challenger Eve that ask you to play and win the following game :\n",
    "\n",
    "- split your team into two groups, say A and B\n",
    "- Eve is independently going to give at each group an integer of value either 1,2 or 3. \n",
    "- group A, given value i, secretely gives to Eve three $\\pm1$ digits say $a_{i1},a_{i2},a_{i3}$ such that their product is $1$\n",
    "- group B, given value j, secretely gives to Eve three $\\pm1$ digits say $b_{1j},b_{2j},b_{3j}$ such that their product is $-1$\n",
    "- The game is won by the team if the two sequences of digits given by the two groups coincide at the \"matrix-element\" $ij$, that is if $a_{ij}=b_{ij}$\n",
    "\n",
    "Before the game starts, both group can plan any strategy they want in order to maximise their chance to win the game, but when the game starts both teams get separated far from each other and cannot exchange information through any classical channel.\n",
    "\n",
    "The goal of this problem is to implement a strategy based on quantum phenomenon and more precesicely the entanglement phenomena that allows to win the game everytime, which would be impossible with a classical strategy.\n",
    "\n"
   ]
  },
  {
   "cell_type": "markdown",
   "id": "585c353a-b6e2-485d-afd5-65e3a3f683fc",
   "metadata": {},
   "source": [
    "**Task 1 :** argue why the challenge is impossible to win with probability 1 using a classical strategy. That is, if group A and B decide to give their answer following a deterministic strategy materialised through a predetermined $3 \\times 3$-matrix $M$ of elements $\\pm1$ where at input $(i;j)$, A and B would answer row $i$ and column $j$ so to achieve $a_{ij}=b_{ij}$, then this procedure cannot garantee to give a product of 1 and -1 for row $i$ and colum $j$ at every input $(i,j)$ sent by Eve.\n",
    "\n",
    "Example of such a strategy :\n",
    "\n",
    "\\begin{bmatrix}\n",
    "1 & 1 & 1\\\\\n",
    "-1 & 1 & -1\\\\\n",
    "1 & -1 & -1\n",
    "\\end{bmatrix}\n",
    "\n",
    "What input would lead to an incorrect answer ? \n",
    "\n",
    "We can see that using this strategy allows to win the game 8 out of 9 time and this is in fact the best frequence we can hope with a classical strategy. \n"
   ]
  },
  {
   "cell_type": "markdown",
   "id": "65601ed9-f65f-4ae9-90ec-156c4300c503",
   "metadata": {},
   "source": [
    "Your response here :"
   ]
  },
  {
   "cell_type": "markdown",
   "id": "0bbc52de-999e-4149-a386-452d3ee7c370",
   "metadata": {},
   "source": [
    "2. Hopefully, the experience of Aspect in 1982 showed that we don't live in a classical world and the recent progress of quantum computing has now made possible to win this challenge with probability 1. In the following we will see how this is achieved.\n",
    "\n",
    "During the planning of the strategy, group A and B of your team prepare 4 qubits $A_1, A_2,B_1,B_2$ in a entangled state : \n",
    "\n",
    "$$|\\phi \\rangle_{AB}=\\frac{1}{\\sqrt{2}} \\ket{B_{00}}_{AB}\\otimes\\frac{1}{\\sqrt{2}} \\ket{B_{00}}_{AB}=\\frac{1}{\\sqrt{2}} (\\ket{00}_{A_1,B_1}+\\ket{11}_{A_1,B_1}) \\otimes \\frac{1}{\\sqrt{2}} (\\ket{00}_{A_2,B_2}+\\ket{11}_{A_2,B_2}) $$\n",
    "$$\\newcommand{\\ket}[1]{\\left|{#1}\\right\\rangle}$$\n",
    "and they agree on the following table $\\mathcal{Q}$:\n",
    "\n",
    "\\begin{array}{|l|c|r|}\n",
    "\\hline\n",
    "\\sigma_x \\otimes \\sigma_x & \\sigma_x \\otimes I & I \\otimes \\sigma_x \\\\ \\hline\n",
    "\\sigma_y \\otimes \\sigma_y & -\\sigma_x \\otimes \\sigma_z & -\\sigma_z \\otimes \\sigma_x\\\\ \\hline\n",
    "\\sigma_z \\otimes \\sigma_z & I \\otimes \\sigma_z &  \\sigma_z \\otimes I \\\\\n",
    "\\hline\n",
    "\\end{array}\n",
    "\n"
   ]
  },
  {
   "cell_type": "markdown",
   "id": "1aec01d8-2e13-4820-9ddc-e0ca9cb07c30",
   "metadata": {},
   "source": [
    "**Task 2 :** Code and draw a quantum circuit preparing the desired state $|\\phi \\rangle_{AB}$"
   ]
  },
  {
   "cell_type": "code",
   "execution_count": 1,
   "id": "83430d8e-1b21-4feb-a4fc-3ca403053917",
   "metadata": {},
   "outputs": [
    {
     "data": {
      "image/png": "[encoded data removed]",
      "text/plain": [
       "<Figure size 327.397x325.08 with 1 Axes>"
      ]
     },
     "execution_count": 1,
     "metadata": {},
     "output_type": "execute_result"
    }
   ],
   "source": [
    "#your response \n",
    "from qiskit import QuantumRegister, ClassicalRegister, QuantumCircuit\n",
    "from qiskit.visualization import *\n",
    "\n",
    "qreg_q = QuantumRegister(4, 'q')\n",
    "creg_c = ClassicalRegister(4, 'c')\n",
    "i=1\n",
    "j=2\n",
    "circuit = QuantumCircuit(qreg_q, creg_c)\n",
    "\n",
    "circuit.h(qreg_q[0])\n",
    "circuit.h(qreg_q[1])\n",
    "circuit.cx(qreg_q[1], qreg_q[3])\n",
    "circuit.cx(qreg_q[0], qreg_q[2])\n",
    "circuit.barrier(qreg_q[3], qreg_q[2],qreg_q[1],qreg_q[0])\n",
    "\n",
    "circuit.draw()\n"
   ]
  },
  {
   "cell_type": "markdown",
   "id": "1c01b21d-22bb-488f-80e7-deeba2188c3f",
   "metadata": {},
   "source": [
    "# The measurement postulate\n",
    "\n",
    "To proceed further, we explain the following aspect of the measurement postulate :\n",
    "\n",
    "1. an observable is a measurable quantity described by an hermitian matrix\n",
    "2. the measurement apparatus projects the state (or wave function) on one of the eigen-basis vector $\\ket{v}$\n",
    "3. the value of the observable is given by the eigen value associated with the eigen vector \n",
    "4. simultaneous measurements of many observables are only possible for commuting observables since they must have commun eigen basis\n",
    "5. the Born rule states that $\\mathcal{P}(\\ket{\\phi} \\rightarrow \\ket{v})= |\\langle v|\\phi \\rangle|^2$. If an eigen value is degenerate the probability of measuring this eigen value is the sum of these probabilities over corresponding eigenvectors.\n",
    "\n",
    "The **key observation** we can make on the table of observables $\\mathcal{Q}$ given above is :\n",
    "$$\\prod_k \\mathcal{Q}_{i,k} = I$$ and $$\\prod_k \\mathcal{Q}_{k,j} = -I$$\n",
    "\n",
    "I being the identity matrix. When measuring simultaneously the observable in a row or colum, the product of the eigen values for each observable will then be 1 or -1 respectively, and thus the challenge constraints will be achieved.\n",
    "\n"
   ]
  },
  {
   "cell_type": "markdown",
   "id": "66730bdc-1cad-4622-bc2e-cfa08ca3be95",
   "metadata": {
    "tags": []
   },
   "source": [
    "# List of the common basis\n",
    "\n",
    "Simultaneous measurements over different observables are possible only for commutative observables (otherwise what is the problem?). Hence, after checking that the observables in rows and columns indeed commute, we know that a common basis exists and we can make the measurements of those observables in such a basis. However, measurements on Qiskit are only made according to the usual basis, that is in the case of for 4 qubits : \n",
    "\n",
    "$$\\mathcal{B}= \\{\\ket{\\uparrow\\uparrow}, \\ket{\\uparrow\\downarrow}, \\ket{\\downarrow\\uparrow}, \\ket{\\downarrow\\downarrow} \\}$$\n",
    "\n",
    "Hence, we should find a way to convert the common basis for a row/colum into the usual basis so that the outcome of the measurements can be correctly deduced. We will see that it can be done directly by adding some quantum gates at the end of the circuit. \n",
    "\n",
    "We recall that hermitian matrix are diagonalisable and have real eigen value, that is among others what allows to interpret the square projection of an observable as a probability. A **common basis** for several hermitian matrices (or observables) is a set of vectors in which each hermitian matrices can be diagonalised.\n",
    "\n",
    "After some calculations, we can find the common basis for rows and colums. Here they are :  \n",
    "\n",
    "For group A :\n",
    "\n",
    "$$\\mathcal{B}^{A}_1= \\{\\ket{++}, \\ket{+-}, \\ket{-+}, \\ket{--} \\}$$\n",
    "\n",
    "$$\\mathcal{B}^{A}_2= \\{\\ket{\\uparrow\\uparrow}+\\ket{\\uparrow\\downarrow}+\\ket{\\downarrow\\uparrow}-\\ket{\\downarrow\\downarrow},\n",
    "\\ket{\\uparrow\\uparrow}-\\ket{\\uparrow\\downarrow}+\\ket{\\downarrow\\uparrow}+\\ket{\\downarrow\\downarrow},\n",
    "\\ket{\\uparrow\\uparrow}+\\ket{\\uparrow\\downarrow}-\\ket{\\downarrow\\uparrow}+\\ket{\\downarrow\\downarrow},\n",
    "\\ket{\\uparrow\\uparrow}-\\ket{\\uparrow\\downarrow}-\\ket{\\downarrow\\uparrow}-\\ket{\\downarrow\\downarrow} \\}$$\n",
    "\n",
    "$$\\mathcal{B}^{A}_3= \\{\\ket{\\uparrow\\uparrow}, \\ket{\\uparrow\\downarrow}, \\ket{\\downarrow\\uparrow}, \\ket{\\downarrow\\downarrow} \\}$$\n",
    "\n",
    "For group B :\n",
    "\n",
    "$$\\mathcal{B}^{B}_1= \\{\\ket{\\uparrow\\uparrow}+\\ket{\\downarrow\\downarrow},\\ket{\\uparrow\\downarrow}+\\ket{\\downarrow\\uparrow},\\ket{\\uparrow\\uparrow}-\\ket{\\downarrow\\downarrow},\\ket{\\uparrow\\downarrow}-\\ket{\\downarrow\\uparrow} \\}$$\n",
    "\n",
    "$$\\mathcal{B}^{B}_2= \\{\\ket{+}\\otimes \\ket{\\uparrow},  \\ket{+}\\otimes\\ket{\\downarrow},\\ket{-}\\otimes\\ket{\\uparrow},\n",
    "\\ket{-}\\otimes\\ket{\\downarrow} \\}$$\n",
    "\n",
    "\n",
    "$$\\mathcal{B}^{B}_3= \\{\\ket{\\uparrow\\uparrow}+\\ket{\\uparrow\\downarrow}, \\ket{\\uparrow\\uparrow}-\\ket{\\uparrow\\downarrow}, \\ket{\\downarrow\\uparrow}+\\ket{\\downarrow\\downarrow},\\ket{\\downarrow\\uparrow}-\\ket{\\downarrow\\downarrow} \\}$$\n",
    "\n",
    "\n",
    "\n"
   ]
  },
  {
   "cell_type": "markdown",
   "id": "e0a98185-033b-4cf9-9248-2a04ada70cd7",
   "metadata": {},
   "source": [
    "**Task 3** : code and draw a 2 qubits circuit which, for a random state $\\psi = \\alpha \\ket{\\uparrow} + \\beta \\ket{\\downarrow}$ expressed in the usual basis $\\mathcal{B}$, express this state in terms of the basis $\\mathcal{B}^{B}_2$.\n",
    "\n",
    "*Hint: express the vector of $\\mathcal{B}^{B}_2$ in terms of the vectors of $\\mathcal{B}$ and the identity matrix I and the Hadamard matrix H.*"
   ]
  },
  {
   "cell_type": "code",
   "execution_count": 2,
   "id": "f24087ff-e999-4b23-aaeb-ea9422e2e8f0",
   "metadata": {},
   "outputs": [
    {
     "name": "stderr",
     "output_type": "stream",
     "text": [
      "<frozen importlib._bootstrap>:219: RuntimeWarning: scipy._lib.messagestream.MessageStream size changed, may indicate binary incompatibility. Expected 56 from C header, got 64 from PyObject\n"
     ]
    },
    {
     "data": {
      "image/png": "[encoded data removed]",
      "text/plain": [
       "<Figure size 146.652x144.48 with 1 Axes>"
      ]
     },
     "execution_count": 2,
     "metadata": {},
     "output_type": "execute_result"
    }
   ],
   "source": [
    "#your code\n",
    "\n",
    "# Importing standard Qiskit libraries\n",
    "from qiskit import QuantumCircuit, transpile, Aer, IBMQ\n",
    "from qiskit import QuantumRegister, ClassicalRegister, QuantumCircuit\n",
    "from qiskit.compiler import transpile, assemble\n",
    "from qiskit.tools.jupyter import *\n",
    "from qiskit.visualization import *\n",
    "\n",
    "from qiskit.providers.aer import QasmSimulator\n",
    "\n",
    "# Loading your IBM Quantum account(s)\n",
    "provider = IBMQ.load_account()\n",
    "\n",
    "qreg_q = QuantumRegister(2, 'q')\n",
    "\n",
    "circuit = QuantumCircuit(qreg_q)\n",
    "\n",
    "circuit.h(qreg_q[0])\n",
    "circuit.h(qreg_q[1])\n",
    "\n",
    "circuit.draw()\n"
   ]
  },
  {
   "cell_type": "markdown",
   "id": "d3179311-4d73-435f-95f6-e8139d9fe53e",
   "metadata": {},
   "source": [
    "**The strategy**\n",
    "\n",
    "During the separation, group A takes to his laboratory the qubits $A_1$ and $A_2$, group B takes to his laboratory the qubits $B_1$ and $B_2$. \n",
    "\n",
    "Once the game starts on input $(i,j)$, group A performs the measurement of its two qubits according to the observables in row $i$ of the table $\\mathcal{Q}$, that is, projects the state $\\mathcal{Q}_{i,k}\\ket{A_1A_2}$ entangled with $B_1$ and $B_2$  onto the common basis $\\mathcal{B}_i^A$ and then look at the possible outcomes $\\ket{a_1a_2}_k$ of the projected states which will arise. It then outputs the corresponding eigenvalues $a_{ik}$ of the observables $\\mathcal{Q}_{i,k}$ diagonalised in $\\mathcal{B}_i^A$.\n",
    "\n",
    "Bob proceeds in a similar fashion with the observables on colums j. \n",
    "\n",
    "Using an simulator will produce valid state outcomes (that is, theoretically true) but in pratice on a real quantum machine there is a lot of noise and so we have to repeat the experiment several times to see the true outcomes emerging from the remaining possible outcomes."
   ]
  },
  {
   "cell_type": "markdown",
   "id": "e02358c4-e9f4-4fdb-a230-c2fd48325006",
   "metadata": {},
   "source": [
    "# Implementation for special case (i,j)=(1,2)\n",
    "\n",
    "**Task 4 :** code a circuit which output the histogram of the measurement outcomes for a number of 1024 simulations, in the special case of (i,j)=(1,2).\n",
    "\n",
    "*Hint: you should apply the right changes of basis to the corresponding qubits of A and B.*\n"
   ]
  },
  {
   "cell_type": "code",
   "execution_count": 3,
   "id": "d978c758-c86d-41f4-8bcb-d8e2591f1c28",
   "metadata": {},
   "outputs": [
    {
     "name": "stderr",
     "output_type": "stream",
     "text": [
      "ibmqfactory.load_account:WARNING:2022-11-29 10:49:08,472: Credentials are already in use. The existing account in the session will be replaced.\n"
     ]
    },
    {
     "name": "stdout",
     "output_type": "stream",
     "text": [
      "{'1111': 137, '0000': 117, '0010': 126, '1101': 124, '1000': 124, '0111': 126, '0101': 130, '1010': 140}\n"
     ]
    },
    {
     "data": {
      "image/png": "[encoded data removed]",
      "text/plain": [
       "<Figure size 504x360 with 1 Axes>"
      ]
     },
     "execution_count": 3,
     "metadata": {},
     "output_type": "execute_result"
    }
   ],
   "source": [
    "# your code\n",
    "\n",
    "# Importing standard Qiskit libraries\n",
    "from qiskit import QuantumCircuit, transpile, Aer, IBMQ\n",
    "from qiskit import QuantumRegister, ClassicalRegister, QuantumCircuit\n",
    "from qiskit.compiler import transpile, assemble\n",
    "from qiskit.tools.jupyter import *\n",
    "from qiskit.visualization import *\n",
    "\n",
    "from qiskit.providers.aer import QasmSimulator\n",
    "\n",
    "# Loading your IBM Quantum account(s)\n",
    "provider = IBMQ.load_account()\n",
    "\n",
    "qreg_q = QuantumRegister(4, 'q')\n",
    "creg_c = ClassicalRegister(4, 'c')\n",
    "i=1\n",
    "j=2\n",
    "circuit = QuantumCircuit(qreg_q, creg_c)\n",
    "\n",
    "circuit.h(qreg_q[0])\n",
    "circuit.h(qreg_q[1])\n",
    "circuit.cx(qreg_q[1], qreg_q[3])\n",
    "circuit.cx(qreg_q[0], qreg_q[2])\n",
    "circuit.barrier(qreg_q[3], qreg_q[2],qreg_q[1],qreg_q[0])\n",
    "\n",
    "#i=1\n",
    "circuit.h(qreg_q[0])\n",
    "circuit.h(qreg_q[1])\n",
    "\n",
    "#j=2\n",
    "circuit.h(qreg_q[2])\n",
    "\n",
    "circuit.barrier(qreg_q[3], qreg_q[2],qreg_q[1],qreg_q[0])\n",
    "circuit.measure(qreg_q[0], creg_c[0])\n",
    "circuit.measure(qreg_q[1], creg_c[1])\n",
    "circuit.measure(qreg_q[2], creg_c[2])\n",
    "circuit.measure(qreg_q[3], creg_c[3])\n",
    "\n",
    "from qiskit import Aer\n",
    "aer_sim = Aer.get_backend('aer_simulator')\n",
    "job = aer_sim.run(circuit, shots=1024)\n",
    "\n",
    "hist = job.result().get_counts()\n",
    "print(hist)\n",
    "\n",
    "plot_histogram(hist)\n"
   ]
  },
  {
   "cell_type": "markdown",
   "id": "0d2a38ac-cda6-44f2-9c65-f0b9f79fa13c",
   "metadata": {},
   "source": [
    "On qiskit the outcomes are read in reversed order compared to the order of the qubit appearing in the circuit (from $q[0]$ to $q[3]$). So from an outcome $b_2b_1a_2a_1$ of your choice, deduce a valid answer for group A and group B.\n",
    "\n",
    "*hint :* The observables can be calculated from $\\mathcal{Q}$ and then diagonalised according to the correct basis of group A and B.\n",
    "\n",
    "The diagonalised observables for $\\mathcal{B}^{A}_1$ are : \n",
    "\n",
    "$$\n",
    "Q_{1,1}=\n",
    "\\begin{pmatrix}\n",
    "1 & 0 & 0 & 0 \\\\\n",
    "0 & -1 & 0 & 0 \\\\\n",
    "0 & 0 & -1 & 0 \\\\\n",
    "0 & 0 & 0 & 1\n",
    "\\end{pmatrix}\n",
    "  ;  Q_{1,2}=\n",
    "\\begin{pmatrix}\n",
    "1 & 0 & 0 & 0 \\\\\n",
    "0 & 1 & 0 & 0 \\\\\n",
    "0 & 0 & -1 & 0 \\\\\n",
    "0 & 0 & 0 & -1\n",
    "\\end{pmatrix}\n",
    "  ;  Q_{1,3}=\n",
    "\\begin{pmatrix}\n",
    "1 & 0 & 0 & 0 \\\\\n",
    "0 & -1 & 0 & 0 \\\\\n",
    "0 & 0 & 1 & 0 \\\\\n",
    "0 & 0 & 0 & -1\n",
    "\\end{pmatrix}\n",
    "$$\n",
    "\n",
    "The diagolised observables for $\\mathcal{B}^{B}_2$ are : \n",
    "$$\n",
    "Q_{1,2}=\n",
    "\\begin{pmatrix}\n",
    "1 & 0 & 0 & 0 \\\\\n",
    "0 & 1 & 0 & 0 \\\\\n",
    "0 & 0 & -1 & 0 \\\\\n",
    "0 & 0 & 0 & -1\n",
    "\\end{pmatrix}\n",
    "  ;  Q_{2,2}=\n",
    "\\begin{pmatrix}\n",
    "-1 & 0 & 0 & 0 \\\\\n",
    "0 & 1 & 0 & 0 \\\\\n",
    "0 & 0 & 1 & 0 \\\\\n",
    "0 & 0 & 0 & -1\n",
    "\\end{pmatrix}\n",
    "  ;  Q_{3,2}=\n",
    "\\begin{pmatrix}\n",
    "1 & 0 & 0 & 0 \\\\\n",
    "0 & -1 & 0 & 0 \\\\  \n",
    "0 & 0 & 1 & 0 \\\\\n",
    "0 & 0 & 0 & -1\n",
    "\\end{pmatrix}\n",
    "$$\n",
    "\n"
   ]
  },
  {
   "cell_type": "markdown",
   "id": "107bbf01-709c-4d15-a2a7-51c16ee0dc2d",
   "metadata": {},
   "source": [
    "Your response here"
   ]
  },
  {
   "cell_type": "markdown",
   "id": "6b343010-a273-460e-972a-5e79c6bcf54a",
   "metadata": {},
   "source": [
    "**Task 5 :** give a code which output the histogram of the measurement outcomes for a number of 1024 simulations, in the special, for all input (i,j) that Eve could ask : \n",
    "\n",
    "*hint : you can use disjonction cases inside the code of the circuit* "
   ]
  },
  {
   "cell_type": "code",
   "execution_count": 4,
   "id": "d9536aa7-2f21-49d5-9471-df9dcea4c8c6",
   "metadata": {},
   "outputs": [
    {
     "name": "stderr",
     "output_type": "stream",
     "text": [
      "ibmqfactory.load_account:WARNING:2022-11-29 10:49:10,368: Credentials are already in use. The existing account in the session will be replaced.\n"
     ]
    },
    {
     "name": "stdout",
     "output_type": "stream",
     "text": [
      "{'1010': 988, '1101': 1026, '1000': 976, '1111': 1034, '0111': 1024, '0101': 1030, '0000': 1024, '0010': 1090}\n"
     ]
    },
    {
     "data": {
      "image/png": "[encoded data removed]",
      "text/plain": [
       "<Figure size 504x360 with 1 Axes>"
      ]
     },
     "execution_count": 4,
     "metadata": {},
     "output_type": "execute_result"
    }
   ],
   "source": [
    "# your code\n",
    "\n",
    "# Importing standard Qiskit libraries\n",
    "from qiskit import QuantumCircuit, transpile, Aer, IBMQ\n",
    "from qiskit import QuantumRegister, ClassicalRegister, QuantumCircuit\n",
    "from qiskit.compiler import transpile, assemble\n",
    "from qiskit.tools.jupyter import *\n",
    "from qiskit.visualization import *\n",
    "\n",
    "from qiskit.providers.aer import QasmSimulator\n",
    "\n",
    "# Loading your IBM Quantum account(s)\n",
    "provider = IBMQ.load_account()\n",
    "\n",
    "qreg_q = QuantumRegister(4, 'q')\n",
    "creg_c = ClassicalRegister(4, 'c')\n",
    "i=1\n",
    "j=2\n",
    "circuit = QuantumCircuit(qreg_q, creg_c)\n",
    "\n",
    "circuit.h(qreg_q[0])\n",
    "circuit.h(qreg_q[1])\n",
    "circuit.cx(qreg_q[1], qreg_q[3])\n",
    "circuit.cx(qreg_q[0], qreg_q[2])\n",
    "circuit.barrier(qreg_q[3], qreg_q[2],qreg_q[1],qreg_q[0])\n",
    "\n",
    "if i==1:\n",
    "    circuit.h(qreg_q[0])\n",
    "    circuit.h(qreg_q[1])\n",
    "if i==2:\n",
    "    circuit.h(qreg_q[0])\n",
    "    circuit.h(qreg_q[1])\n",
    "    circuit.cx(qreg_q[0], qreg_q[1])\n",
    "    #if i==3, nothing to do\n",
    "    \n",
    "if j==1:\n",
    "    circuit.h(qreg_q[2])\n",
    "    circuit.cx(qreg_q[2], qreg_q[3])\n",
    "\n",
    "if j==2:\n",
    "    circuit.h(qreg_q[2])\n",
    "if j==3:\n",
    "    circuit.h(qreg_q[3])\n",
    "    \n",
    "circuit.barrier(qreg_q[3], qreg_q[2],qreg_q[1],qreg_q[0])\n",
    "circuit.measure(qreg_q[0], creg_c[0])\n",
    "circuit.measure(qreg_q[1], creg_c[1])\n",
    "circuit.measure(qreg_q[2], creg_c[2])\n",
    "circuit.measure(qreg_q[3], creg_c[3])\n",
    "    \n",
    "from qiskit import Aer\n",
    "aer_sim = Aer.get_backend('aer_simulator')\n",
    "job = aer_sim.run(circuit, shots=8192)\n",
    "\n",
    "hist = job.result().get_counts()\n",
    "print(hist)\n",
    "\n",
    "plot_histogram(hist)\n"
   ]
  },
  {
   "cell_type": "code",
   "execution_count": null,
   "id": "003e1a52-b97c-42c5-a43d-26491f50e788",
   "metadata": {},
   "outputs": [],
   "source": []
  },
  {
   "cell_type": "code",
   "execution_count": null,
   "id": "8ba776a9-49e0-4637-9e35-7c60556c1d1a",
   "metadata": {},
   "outputs": [],
   "source": []
  }
 ],
 "metadata": {
  "kernelspec": {
   "display_name": "Python 3 (ipykernel)",
   "language": "python",
   "name": "python3"
  },
  "language_info": {
   "codemirror_mode": {
    "name": "ipython",
    "version": 3
   },
   "file_extension": ".py",
   "mimetype": "text/x-python",
   "name": "python",
   "nbconvert_exporter": "python",
   "pygments_lexer": "ipython3",
   "version": "3.8.13"
  },
  "widgets": {
   "application/vnd.jupyter.widget-state+json": {
    "state": {
     "32d8f3a817fa4fbab925977f8c96f79d": {
      "model_module": "@jupyter-widgets/controls",
      "model_module_version": "1.5.0",
      "model_name": "HTMLModel",
      "state": {
       "layout": "IPY_MODEL_c0777ff5fa84491c973e5ccb9c1a7746",
       "style": "IPY_MODEL_7b55f49819724fa3b60367bd3f9d6a55",
       "value": "<h5>Message</h5>"
      }
     },
     "3360f734b43e4aca9b51ad3b12ebb5f6": {
      "model_module": "@jupyter-widgets/controls",
      "model_module_version": "1.5.0",
      "model_name": "ButtonModel",
      "state": {
       "button_style": "primary",
       "description": "Clear",
       "layout": "IPY_MODEL_82f0830256d64551b5c1dd874a1c3b67",
       "style": "IPY_MODEL_c546f82bffbe4e1494e15e76c92a09df"
      }
     },
     "3a3184b7b888403982ae92ecfa320b9f": {
      "model_module": "@jupyter-widgets/base",
      "model_module_version": "1.2.0",
      "model_name": "LayoutModel",
      "state": {
       "margin": "0px 0px 0px 37px",
       "width": "600px"
      }
     },
     "3aa07e2a8f16419d8e9e8d2976c2aec4": {
      "model_module": "@jupyter-widgets/controls",
      "model_module_version": "1.5.0",
      "model_name": "DescriptionStyleModel",
      "state": {
       "description_width": ""
      }
     },
     "515704cb0c924b38813216ecfb5e05f3": {
      "model_module": "@jupyter-widgets/controls",
      "model_module_version": "1.5.0",
      "model_name": "GridBoxModel",
      "state": {
       "children": [
        "IPY_MODEL_3360f734b43e4aca9b51ad3b12ebb5f6"
       ],
       "layout": "IPY_MODEL_68fedddf1e9347c1963aa8d061645235"
      }
     },
     "5d4f11a8e1bc4238b2536a9cda8317f3": {
      "model_module": "@jupyter-widgets/controls",
      "model_module_version": "1.5.0",
      "model_name": "HTMLModel",
      "state": {
       "layout": "IPY_MODEL_6f52444c860e4992b9f7b3f2cccf8415",
       "style": "IPY_MODEL_ce119a3eaafa45f6bb2c64bb14f5cb65",
       "value": "<p style='font-family: IBM Plex Sans, Arial, Helvetica, sans-serif; font-size: 20px; font-weight: medium;'>Circuit Properties</p>"
      }
     },
     "68fedddf1e9347c1963aa8d061645235": {
      "model_module": "@jupyter-widgets/base",
      "model_module_version": "1.2.0",
      "model_name": "LayoutModel",
      "state": {
       "grid_template_areas": "\n                                       \". . . . right \"\n                                        ",
       "grid_template_columns": "20% 20% 20% 20% 20%",
       "width": "100%"
      }
     },
     "6f52444c860e4992b9f7b3f2cccf8415": {
      "model_module": "@jupyter-widgets/base",
      "model_module_version": "1.2.0",
      "model_name": "LayoutModel",
      "state": {
       "margin": "0px 0px 10px 0px"
      }
     },
     "7b55f49819724fa3b60367bd3f9d6a55": {
      "model_module": "@jupyter-widgets/controls",
      "model_module_version": "1.5.0",
      "model_name": "DescriptionStyleModel",
      "state": {
       "description_width": ""
      }
     },
     "82f0830256d64551b5c1dd874a1c3b67": {
      "model_module": "@jupyter-widgets/base",
      "model_module_version": "1.2.0",
      "model_name": "LayoutModel",
      "state": {
       "grid_area": "right",
       "padding": "0px 0px 0px 0px",
       "width": "70px"
      }
     },
     "8c33cf81f81d46b99259638b568ab8e0": {
      "model_module": "@jupyter-widgets/controls",
      "model_module_version": "1.5.0",
      "model_name": "DescriptionStyleModel",
      "state": {
       "description_width": ""
      }
     },
     "94ac402f1b034a259f1230f75a80e19e": {
      "model_module": "@jupyter-widgets/controls",
      "model_module_version": "1.5.0",
      "model_name": "HTMLModel",
      "state": {
       "layout": "IPY_MODEL_be5578b4767847c1a5ac346fee1c285d",
       "style": "IPY_MODEL_8c33cf81f81d46b99259638b568ab8e0",
       "value": "<h5>Backend</h5>"
      }
     },
     "a30593faaca34fb0824123955f1db2bf": {
      "model_module": "@jupyter-widgets/base",
      "model_module_version": "1.2.0",
      "model_name": "LayoutModel",
      "state": {
       "width": "70px"
      }
     },
     "a5d4b9c9464147ebabdcd91227d21d77": {
      "model_module": "@jupyter-widgets/base",
      "model_module_version": "1.2.0",
      "model_name": "LayoutModel",
      "state": {
       "width": "190px"
      }
     },
     "ad0dfdc4a4fd43448e25b6a11c8d526e": {
      "model_module": "@jupyter-widgets/controls",
      "model_module_version": "1.5.0",
      "model_name": "HTMLModel",
      "state": {
       "layout": "IPY_MODEL_eb0e3a74929145cfb0aadb673b9d5349",
       "style": "IPY_MODEL_c5b7a4ba2a9f478497fd93e6df2ec4dd",
       "value": "<h5>Status</h5>"
      }
     },
     "be5578b4767847c1a5ac346fee1c285d": {
      "model_module": "@jupyter-widgets/base",
      "model_module_version": "1.2.0",
      "model_name": "LayoutModel",
      "state": {
       "width": "145px"
      }
     },
     "c0777ff5fa84491c973e5ccb9c1a7746": {
      "model_module": "@jupyter-widgets/base",
      "model_module_version": "1.2.0",
      "model_name": "LayoutModel",
      "state": {}
     },
     "c546f82bffbe4e1494e15e76c92a09df": {
      "model_module": "@jupyter-widgets/controls",
      "model_module_version": "1.5.0",
      "model_name": "ButtonStyleModel",
      "state": {}
     },
     "c5b7a4ba2a9f478497fd93e6df2ec4dd": {
      "model_module": "@jupyter-widgets/controls",
      "model_module_version": "1.5.0",
      "model_name": "DescriptionStyleModel",
      "state": {
       "description_width": ""
      }
     },
     "ce119a3eaafa45f6bb2c64bb14f5cb65": {
      "model_module": "@jupyter-widgets/controls",
      "model_module_version": "1.5.0",
      "model_name": "DescriptionStyleModel",
      "state": {
       "description_width": ""
      }
     },
     "df3430e7ae9e4f49b87dbc0bd4a1019b": {
      "model_module": "@jupyter-widgets/controls",
      "model_module_version": "1.5.0",
      "model_name": "HTMLModel",
      "state": {
       "layout": "IPY_MODEL_a30593faaca34fb0824123955f1db2bf",
       "style": "IPY_MODEL_3aa07e2a8f16419d8e9e8d2976c2aec4",
       "value": "<h5>Queue</h5>"
      }
     },
     "e043ce77b89a496f918114e391e6e029": {
      "model_module": "@jupyter-widgets/controls",
      "model_module_version": "1.5.0",
      "model_name": "DescriptionStyleModel",
      "state": {
       "description_width": ""
      }
     },
     "e4160dbc5c614812804baf6160bfe555": {
      "model_module": "@jupyter-widgets/controls",
      "model_module_version": "1.5.0",
      "model_name": "HTMLModel",
      "state": {
       "layout": "IPY_MODEL_a5d4b9c9464147ebabdcd91227d21d77",
       "style": "IPY_MODEL_e043ce77b89a496f918114e391e6e029",
       "value": "<h5>Job ID</h5>"
      }
     },
     "eb0e3a74929145cfb0aadb673b9d5349": {
      "model_module": "@jupyter-widgets/base",
      "model_module_version": "1.2.0",
      "model_name": "LayoutModel",
      "state": {
       "width": "95px"
      }
     },
     "fd1acd0bb4ef4997883cfa198bd04eac": {
      "model_module": "@jupyter-widgets/controls",
      "model_module_version": "1.5.0",
      "model_name": "HBoxModel",
      "state": {
       "children": [
        "IPY_MODEL_e4160dbc5c614812804baf6160bfe555",
        "IPY_MODEL_94ac402f1b034a259f1230f75a80e19e",
        "IPY_MODEL_ad0dfdc4a4fd43448e25b6a11c8d526e",
        "IPY_MODEL_df3430e7ae9e4f49b87dbc0bd4a1019b",
        "IPY_MODEL_32d8f3a817fa4fbab925977f8c96f79d"
       ],
       "layout": "IPY_MODEL_3a3184b7b888403982ae92ecfa320b9f"
      }
     }
    },
    "version_major": 2,
    "version_minor": 0
   }
  }
 },
 "nbformat": 4,
 "nbformat_minor": 5
}
